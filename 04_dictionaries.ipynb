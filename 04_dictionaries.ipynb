{
  "nbformat": 4,
  "nbformat_minor": 0,
  "metadata": {
    "colab": {
      "provenance": [],
      "authorship_tag": "ABX9TyPcXJZ42MwvQ+oOFP39k3GL",
      "include_colab_link": true
    },
    "kernelspec": {
      "name": "python3",
      "display_name": "Python 3"
    },
    "language_info": {
      "name": "python"
    }
  },
  "cells": [
    {
      "cell_type": "markdown",
      "metadata": {
        "id": "view-in-github",
        "colab_type": "text"
      },
      "source": [
        "<a href=\"https://colab.research.google.com/github/asadali7755/Project-4-Assignments/blob/main/04_dictionaries.ipynb\" target=\"_parent\"><img src=\"https://colab.research.google.com/assets/colab-badge.svg\" alt=\"Open In Colab\"/></a>"
      ]
    },
    {
      "cell_type": "code",
      "source": [
        "print(\"00_count_nums\")\n",
        "\n",
        "def count_numbers():\n",
        "  count_dict = {}\n",
        "\n",
        "  while True:\n",
        "    num = input(\"Enter a number: (or exit to quit): \")\n",
        "    if num.lower() == \"exit\":\n",
        "      break\n",
        "    if num.isdigit():\n",
        "      num = int(num)\n",
        "      count_dict[num] = count_dict.get(num, 0) + 1\n",
        "    else:\n",
        "      print(\"Invalid input. Please enter a number or 'exit' to quit.\")\n",
        "      return count_dict\n",
        "\n",
        "def display_counts(count_dict):\n",
        "  print(\"\\nNumber Counts:\")\n",
        "  for key, value in count_dict.items():\n",
        "    print(f\"{key} appears {value} times\")\n",
        "\n",
        "count_dict = count_numbers()\n",
        "display_counts(count_dict)"
      ],
      "metadata": {
        "colab": {
          "base_uri": "https://localhost:8080/"
        },
        "id": "yhho9EWnrBkx",
        "outputId": "089bbce0-d336-464c-9172-56e4ba28e816"
      },
      "execution_count": null,
      "outputs": [
        {
          "output_type": "stream",
          "name": "stdout",
          "text": [
            "00_count_nums\n",
            "Enter a number: (or exit to quit): 4\n",
            "Enter a number: (or exit to quit): 5\n",
            "Enter a number: (or exit to quit): 4\n",
            "Enter a number: (or exit to quit): 4\n",
            "Enter a number: (or exit to quit): 5\n",
            "Enter a number: (or exit to quit): 3\n",
            "Enter a number: (or exit to quit): 3\n",
            "Enter a number: (or exit to quit): 4\n",
            "Enter a number: (or exit to quit): 5\n",
            "Enter a number: (or exit to quit): 6\n",
            "Enter a number: (or exit to quit): 6\n",
            "Enter a number: (or exit to quit): \n",
            "Invalid input. Please enter a number or 'exit' to quit.\n",
            "\n",
            "Number Counts:\n",
            "4 appears 4 times\n",
            "5 appears 3 times\n",
            "3 appears 2 times\n",
            "6 appears 2 times\n"
          ]
        }
      ]
    },
    {
      "cell_type": "code",
      "source": [
        "from ast import If\n",
        "print(\"01_phonebook\")\n",
        "\n",
        "def add_contact(phonebook):\n",
        "  name = input(\"Enter contact name: \")\n",
        "  Number = input(\"Enter contact phone number: \")\n",
        "\n",
        "  if name in phonebook:\n",
        "    print(f\"{name}'s phone number is already in the phonebook.\")\n",
        "  else:\n",
        "    phonebook[name] = Number\n",
        "    print(f\"{name} has been added to the phonebook.\")\n",
        "\n",
        "def search_contact(phonebook):\n",
        "  name = input(\"Enter contact name to search: \")\n",
        "\n",
        "  if name in phonebook:\n",
        "    print(f\"{name}'s phone number is {phonebook[name]}.\")\n",
        "  else:\n",
        "    print(f\"{name} is not in the phonebook.\")\n",
        "\n",
        "def delete_contact(phonebook):\n",
        "  name = input(\"Enter contact name to delete: \")\n",
        "\n",
        "  if name in phonebook:\n",
        "    del phonebook[name]\n",
        "    print(f\"{name} has been deleted from the phonebook.\")\n",
        "  else:\n",
        "    print(f\"{name} not found in phonbook\")\n",
        "\n",
        "def display_countact(phonebook):\n",
        "  if phonebook:\n",
        "    print(\"\\nContacts in the phonebook:\")\n",
        "    for name, number in phonebook.items():\n",
        "      print(f\"{name}: {number}\")\n",
        "  else:\n",
        "    print(\"\\nThe phonebook is empty.\")\n",
        "\n",
        "if __name__ == \"__main__\":\n",
        "  phonebook = {}\n",
        "\n",
        "  while True:\n",
        "    print(\"\\nPhonebook Menu:\")\n",
        "    print(\"1. Add Contact\")\n",
        "    print(\"2. Search Contact\")\n",
        "    print(\"3. Delete Contact\")\n",
        "    print(\"4. Display Contacts\")\n",
        "    print(\"5. Exit\")\n",
        "\n",
        "    choice = input(\"Enter your choice (1-5): \")\n",
        "\n",
        "    if choice == \"1\":\n",
        "      add_contact(phonebook)\n",
        "    elif choice == \"2\":\n",
        "      search_contact(phonebook)\n",
        "    elif choice == \"3\":\n",
        "      delete_contact(phonebook)\n",
        "    elif choice == \"4\":\n",
        "      display_countact(phonebook)\n",
        "    elif choice == \"5\":\n",
        "      print(\"Exiting the phonebook. Goodbye!\")\n",
        "      break\n",
        "    else:\n",
        "      print(\"Invalid choice. Please enter a number between 1 and 5.\")\n"
      ],
      "metadata": {
        "colab": {
          "base_uri": "https://localhost:8080/"
        },
        "id": "5g2nzSF0tt07",
        "outputId": "e87a60f4-22a1-4d83-f574-93d87c61bd45"
      },
      "execution_count": null,
      "outputs": [
        {
          "output_type": "stream",
          "name": "stdout",
          "text": [
            "01_phonebook\n",
            "\n",
            "Phonebook Menu:\n",
            "1. Add Contact\n",
            "2. Search Contact\n",
            "3. Delete Contact\n",
            "4. Display Contacts\n",
            "5. Exit\n",
            "Enter your choice (1-5): 1\n",
            "Enter contact name: asad\n",
            "Enter contact phone number: 03115093399\n",
            "asad has been added to the phonebook.\n",
            "\n",
            "Phonebook Menu:\n",
            "1. Add Contact\n",
            "2. Search Contact\n",
            "3. Delete Contact\n",
            "4. Display Contacts\n",
            "5. Exit\n",
            "Enter your choice (1-5): 2\n",
            "Enter contact name to search: asad\n",
            "asad's phone number is 03115093399.\n",
            "\n",
            "Phonebook Menu:\n",
            "1. Add Contact\n",
            "2. Search Contact\n",
            "3. Delete Contact\n",
            "4. Display Contacts\n",
            "5. Exit\n",
            "Enter your choice (1-5): 3\n",
            "Enter contact name to delete: asad\n",
            "asad has been deleted from the phonebook.\n",
            "\n",
            "Phonebook Menu:\n",
            "1. Add Contact\n",
            "2. Search Contact\n",
            "3. Delete Contact\n",
            "4. Display Contacts\n",
            "5. Exit\n",
            "Enter your choice (1-5): 4\n",
            "\n",
            "The phonebook is empty.\n",
            "\n",
            "Phonebook Menu:\n",
            "1. Add Contact\n",
            "2. Search Contact\n",
            "3. Delete Contact\n",
            "4. Display Contacts\n",
            "5. Exit\n",
            "Enter your choice (1-5): 5\n",
            "Exiting the phonebook. Goodbye!\n"
          ]
        }
      ]
    },
    {
      "cell_type": "code",
      "source": [
        "print(\"02_pop_up_shop\")\n",
        "\n",
        "def calculate_total_cost():\n",
        "    fruits_price = {\n",
        "        \"apple\": 5.0,\n",
        "        \"mango\": 15.0,\n",
        "        \"banana\": 12.0,\n",
        "        \"pear\": 6.0\n",
        "    }\n",
        "\n",
        "    total_cost = 0\n",
        "\n",
        "    for fruit, price in fruits_price.items():\n",
        "        while True:\n",
        "            try:\n",
        "                quantity = int(input(f\"How many {fruit} do you want? \"))\n",
        "                if quantity < 0:\n",
        "                    print(\"Invalid input. Please enter a non-negative number.\")\n",
        "                    continue  # Wapas input lene ke liye\n",
        "                total_cost += price * quantity\n",
        "                break  # Jab sahi input mile toh loop se bahar nikal jaye\n",
        "            except ValueError:\n",
        "                print(\"Invalid input. Please enter a valid quantity.\")\n",
        "\n",
        "    print(f\"\\nTotal cost: ${total_cost:.2f}\")\n",
        "\n",
        "if __name__ == \"__main__\":\n",
        "    calculate_total_cost()\n"
      ],
      "metadata": {
        "id": "MyzdDArix3FZ",
        "colab": {
          "base_uri": "https://localhost:8080/"
        },
        "outputId": "0def0f98-95a0-4f89-947e-4bc93596a317"
      },
      "execution_count": 2,
      "outputs": [
        {
          "output_type": "stream",
          "name": "stdout",
          "text": [
            "02_pop_up_shop\n",
            "How many apple do you want? 2\n",
            "How many mango do you want? 4\n",
            "How many banana do you want? 3\n",
            "How many pear do you want? 6\n",
            "\n",
            "Total cost: $142.00\n"
          ]
        }
      ]
    },
    {
      "cell_type": "code",
      "source": [
        "import hashlib\n",
        "\n",
        "print(\"03_powerful_passwords\")\n",
        "\n",
        "def hash_password(password):\n",
        "  return hashlib.sha256(password.encode()).hexdigest()\n",
        "\n",
        "stored_login = {\n",
        "    \"user@example.com\": hash_password(\"password123\"),\n",
        "    \"user2@example.com\": hash_password(\"adminpass\")\n",
        "}\n",
        "\n",
        "def login(email,password):\n",
        "  if email in stored_login:\n",
        "    return stored_login[email] == hash_password(password)\n",
        "  return False\n",
        "\n",
        "if __name__ == \"__main__\":\n",
        "  email = input(\"Enter your email: \")\n",
        "  password = input(\"Enter your password: \")\n",
        "\n",
        "  if login(email,password):\n",
        "    print(\"Login successful!\")\n",
        "  else:\n",
        "    print(\"Invalid email or password\")\n",
        "\n"
      ],
      "metadata": {
        "colab": {
          "base_uri": "https://localhost:8080/"
        },
        "id": "iGJcMvmOJlIf",
        "outputId": "bac21d3d-b6be-4dd3-e24c-02bcb9831e76"
      },
      "execution_count": 4,
      "outputs": [
        {
          "output_type": "stream",
          "name": "stdout",
          "text": [
            "03_powerful_passwords\n",
            "Enter your email: user@example.com\n",
            "Enter your password: password123\n",
            "Login successful!\n"
          ]
        }
      ]
    }
  ]
}