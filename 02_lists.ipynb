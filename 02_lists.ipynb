{
  "nbformat": 4,
  "nbformat_minor": 0,
  "metadata": {
    "colab": {
      "provenance": [],
      "authorship_tag": "ABX9TyP6k1nwsy3jn0tVmqpIA1th",
      "include_colab_link": true
    },
    "kernelspec": {
      "name": "python3",
      "display_name": "Python 3"
    },
    "language_info": {
      "name": "python"
    }
  },
  "cells": [
    {
      "cell_type": "markdown",
      "metadata": {
        "id": "view-in-github",
        "colab_type": "text"
      },
      "source": [
        "<a href=\"https://colab.research.google.com/github/asadali7755/Project-4-Assignments/blob/main/02_lists.ipynb\" target=\"_parent\"><img src=\"https://colab.research.google.com/assets/colab-badge.svg\" alt=\"Open In Colab\"/></a>"
      ]
    },
    {
      "cell_type": "code",
      "execution_count": null,
      "metadata": {
        "colab": {
          "base_uri": "https://localhost:8080/"
        },
        "id": "dKdAPn0km8zl",
        "outputId": "60cb2727-9359-4253-d0bc-f935b65d39bd"
      },
      "outputs": [
        {
          "output_type": "stream",
          "name": "stdout",
          "text": [
            "01_add_many_number\n",
            "15\n"
          ]
        }
      ],
      "source": [
        "print(\"01_add_many_number\")\n",
        "\n",
        "def add_number(numbers)->int:\n",
        "  num:int = 0\n",
        "  for i in numbers:\n",
        "    num+= i\n",
        "  return num\n",
        "\n",
        "def man():\n",
        "  numbers:list[int] = [1,2,3,4,5]\n",
        "  sum = add_number(numbers)\n",
        "  print(sum)\n",
        "if __name__ == \"__main__\":\n",
        "  man()"
      ]
    },
    {
      "cell_type": "code",
      "source": [
        "print(\"02_double_list\")\n",
        "\n",
        "def main():\n",
        "  numbers:list[int] = [1,2,3,4,5,]\n",
        "  for i in range(len(numbers)):\n",
        "    numbers[i] *= 2\n",
        "  print(numbers)\n",
        "\n",
        "if __name__ == \"__main__\":\n",
        "  main()"
      ],
      "metadata": {
        "colab": {
          "base_uri": "https://localhost:8080/"
        },
        "id": "Kh5omMLbpWCQ",
        "outputId": "028a6f35-c70f-4e56-fb74-7ce31e0e4bde"
      },
      "execution_count": null,
      "outputs": [
        {
          "output_type": "stream",
          "name": "stdout",
          "text": [
            "02_double_list\n",
            "[2, 4, 6, 8, 10]\n"
          ]
        }
      ]
    },
    {
      "cell_type": "code",
      "source": [
        "print(\"04_flowing_with_data_structures\")\n",
        "\n",
        "def add_three_copies(lst,data):\n",
        "  for i in range(3):\n",
        "    lst.append(data)\n",
        "def main():\n",
        "  message = input(\"Enter a message copy \")\n",
        "  lst = []\n",
        "  print(\"before list: \",lst)\n",
        "  add_three_copies(lst,message)\n",
        "  print(\"after lst: \",lst)\n",
        "\n",
        "if __name__ == \"__main__\":\n",
        "  main()\n",
        "\n",
        "\n"
      ],
      "metadata": {
        "colab": {
          "base_uri": "https://localhost:8080/"
        },
        "id": "tj7aNGS9p5MQ",
        "outputId": "66601627-dc6e-40fd-9527-16a3bab7f463"
      },
      "execution_count": null,
      "outputs": [
        {
          "output_type": "stream",
          "name": "stdout",
          "text": [
            "04_flowing_with_data_structures\n",
            "Enter a message copy hellow pakistan\n",
            "before list:  []\n",
            "after lst:  ['hellow pakistan', 'hellow pakistan', 'hellow pakistan']\n"
          ]
        }
      ]
    },
    {
      "cell_type": "code",
      "source": [
        "from os import SF_SYNC\n",
        "print(\"05_get_first_element.\")\n",
        "\n",
        "def get_first_element(lst):  # Function name corrected\n",
        "    if lst:  # Checking if list is not empty\n",
        "        print(lst[0])\n",
        "    else:\n",
        "        print(\"List is empty.\")\n",
        "\n",
        "def get_lst():\n",
        "    lst = []\n",
        "    elem = input(\"Enter an element to add to the list (press Enter to stop): \")\n",
        "    while elem != \"\":\n",
        "        lst.append(elem)\n",
        "        elem = input(\"Enter an element to add to the list (press Enter to stop): \")\n",
        "    return lst\n",
        "\n",
        "def main():\n",
        "    lst = get_lst()\n",
        "    get_first_element(lst)  # Calling the corrected function\n",
        "\n",
        "if __name__ == \"__main__\":\n",
        "    main()\n",
        "\n"
      ],
      "metadata": {
        "id": "5__P8Qy_yMq5",
        "colab": {
          "base_uri": "https://localhost:8080/"
        },
        "outputId": "33cd34ef-cc06-421b-c5ed-57a1957e63bd"
      },
      "execution_count": null,
      "outputs": [
        {
          "output_type": "stream",
          "name": "stdout",
          "text": [
            "05_get_first_element.\n",
            "Enter an element to add to the list (press Enter to stop): s\n",
            "Enter an element to add to the list (press Enter to stop): s\n",
            "Enter an element to add to the list (press Enter to stop): \n",
            "s\n"
          ]
        }
      ]
    },
    {
      "cell_type": "code",
      "source": [
        "print(\"06_get_last_element\")\n",
        "\n",
        "def get_last_element(lst):\n",
        "  print (lst[-1])\n",
        "\n",
        "\n",
        "def get_lst():\n",
        "    lst = []\n",
        "    elem = input(\"Enter an element to add to the list (press Enter to stop): \")\n",
        "    while elem != \"\":\n",
        "        lst.append(elem)\n",
        "        elem = input(\"Enter an element to add to the list (press Enter to stop): \")\n",
        "    return lst\n",
        "\n",
        "def main():\n",
        "    lst = get_lst()\n",
        "    get_last_element(lst)\n",
        "\n",
        "if __name__ == \"__main__\":\n",
        "    main()"
      ],
      "metadata": {
        "colab": {
          "base_uri": "https://localhost:8080/"
        },
        "id": "y5_lghg9sqyZ",
        "outputId": "5b1e5a4c-4f3a-4f2a-ee6e-dbbab1e2dcd6"
      },
      "execution_count": null,
      "outputs": [
        {
          "output_type": "stream",
          "name": "stdout",
          "text": [
            "06_get_last_element\n",
            "Enter an element to add to the list (press Enter to stop): a\n",
            "Enter an element to add to the list (press Enter to stop): s\n",
            "Enter an element to add to the list (press Enter to stop): d\n",
            "Enter an element to add to the list (press Enter to stop): f\n",
            "Enter an element to add to the list (press Enter to stop): \n",
            "f\n"
          ]
        }
      ]
    },
    {
      "cell_type": "code",
      "source": [
        "print(\"07_get_list\")\n",
        "\n",
        "def main():\n",
        "  lst = []\n",
        "  val = input(\"enter a value to add to th list\")\n",
        "  while val:\n",
        "    lst.append(val)\n",
        "    val = input(\"enter a value to add to th list\")\n",
        "  print(\"Here is the list: \",lst)\n",
        "\n",
        "if __name__ == \"__main__\":\n",
        "  main()"
      ],
      "metadata": {
        "colab": {
          "base_uri": "https://localhost:8080/"
        },
        "id": "kufcT-y8t2tX",
        "outputId": "42b0531a-b0d6-4e7e-e3f7-f9b463e895e7"
      },
      "execution_count": null,
      "outputs": [
        {
          "output_type": "stream",
          "name": "stdout",
          "text": [
            "07_get_list\n",
            "enter a value to add to th listd\n",
            "enter a value to add to th listfr\n",
            "enter a value to add to th listsdf\n",
            "enter a value to add to th list\n",
            "Here is the list:  ['d', 'fr', 'sdf']\n"
          ]
        }
      ]
    },
    {
      "cell_type": "code",
      "source": [
        "print(\"08_shorten\")\n",
        "\n",
        "max_lenght:int = 3\n",
        "def shorter(lst):\n",
        "  while len(lst) >= max_lenght:\n",
        "   last_element = lst.pop()\n",
        "   print(last_element)\n",
        "\n",
        "def get_lst():\n",
        "    lst = []\n",
        "    element = input(\"Enter an element to add to the list:\")\n",
        "    while element != \"\":\n",
        "        lst.append(element)\n",
        "        element = input(\"Enter an element to add to the list:\")\n",
        "    return lst\n",
        "\n",
        "def main():\n",
        "  lst = get_lst()\n",
        "  shorter(lst)\n",
        "\n",
        "if __name__ == \"__main__\":\n",
        "  main()\n",
        "\n",
        "\n"
      ],
      "metadata": {
        "id": "riwTe7RqujsP",
        "colab": {
          "base_uri": "https://localhost:8080/"
        },
        "outputId": "adc57f87-509a-4ff7-9648-f764b6530c4f"
      },
      "execution_count": 3,
      "outputs": [
        {
          "output_type": "stream",
          "name": "stdout",
          "text": [
            "08_shorten\n",
            "Enter an element to add to the list:asd\n",
            "Enter an element to add to the list:der\n",
            "Enter an element to add to the list:asd\n",
            "Enter an element to add to the list:cfg\n",
            "Enter an element to add to the list:dfvd\n",
            "Enter an element to add to the list:sfec\n",
            "Enter an element to add to the list:\n",
            "sfec\n",
            "dfvd\n",
            "cfg\n",
            "asd\n"
          ]
        }
      ]
    },
    {
      "cell_type": "markdown",
      "source": [],
      "metadata": {
        "id": "Nk5-5qARmReE"
      }
    }
  ]
}