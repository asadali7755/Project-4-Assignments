{
  "nbformat": 4,
  "nbformat_minor": 0,
  "metadata": {
    "colab": {
      "provenance": [],
      "authorship_tag": "ABX9TyOf1X36prCdRY/qfoqmJ/B7",
      "include_colab_link": true
    },
    "kernelspec": {
      "name": "python3",
      "display_name": "Python 3"
    },
    "language_info": {
      "name": "python"
    }
  },
  "cells": [
    {
      "cell_type": "markdown",
      "metadata": {
        "id": "view-in-github",
        "colab_type": "text"
      },
      "source": [
        "<a href=\"https://colab.research.google.com/github/asadali7755/Project-4-Assignments/blob/main/03_if_statements.ipynb\" target=\"_parent\"><img src=\"https://colab.research.google.com/assets/colab-badge.svg\" alt=\"Open In Colab\"/></a>"
      ]
    },
    {
      "cell_type": "code",
      "execution_count": 1,
      "metadata": {
        "id": "jESwuO_T2613",
        "colab": {
          "base_uri": "https://localhost:8080/"
        },
        "outputId": "d6393470-6bfc-4e94-edf9-41864c02be27"
      },
      "outputs": [
        {
          "output_type": "stream",
          "name": "stdout",
          "text": [
            "01_print_events\n",
            "here are 20 even numbers are:  0\n",
            "here are 20 even numbers are:  2\n",
            "here are 20 even numbers are:  4\n",
            "here are 20 even numbers are:  6\n",
            "here are 20 even numbers are:  8\n",
            "here are 20 even numbers are:  10\n",
            "here are 20 even numbers are:  12\n",
            "here are 20 even numbers are:  14\n",
            "here are 20 even numbers are:  16\n",
            "here are 20 even numbers are:  18\n",
            "here are 20 even numbers are:  20\n",
            "here are 20 even numbers are:  22\n",
            "here are 20 even numbers are:  24\n",
            "here are 20 even numbers are:  26\n",
            "here are 20 even numbers are:  28\n",
            "here are 20 even numbers are:  30\n",
            "here are 20 even numbers are:  32\n",
            "here are 20 even numbers are:  34\n",
            "here are 20 even numbers are:  36\n",
            "here are 20 even numbers are:  38\n",
            "here are 20 even numbers are:  40\n",
            "here are 20 even numbers are:  42\n",
            "here are 20 even numbers are:  44\n",
            "here are 20 even numbers are:  46\n",
            "here are 20 even numbers are:  48\n",
            "here are 20 even numbers are:  50\n",
            "here are 20 even numbers are:  52\n",
            "here are 20 even numbers are:  54\n",
            "here are 20 even numbers are:  56\n",
            "here are 20 even numbers are:  58\n",
            "here are 20 even numbers are:  60\n",
            "here are 20 even numbers are:  62\n",
            "here are 20 even numbers are:  64\n",
            "here are 20 even numbers are:  66\n",
            "here are 20 even numbers are:  68\n",
            "here are 20 even numbers are:  70\n",
            "here are 20 even numbers are:  72\n",
            "here are 20 even numbers are:  74\n",
            "here are 20 even numbers are:  76\n",
            "here are 20 even numbers are:  78\n"
          ]
        }
      ],
      "source": [
        "print(\"01_print_events\")\n",
        "\n",
        "def even():\n",
        "  for i in range(40):\n",
        "    print(\"here are 20 even numbers are: \", i * 2 )\n",
        "\n",
        "if __name__ == \"__main__\":\n",
        "  even()"
      ]
    },
    {
      "cell_type": "code",
      "source": [
        "print(\"02_international_voting_age\")\n",
        "\n",
        "Peturksbouipo:int = 16\n",
        "stanlan:int = 25\n",
        "mayengua:int = 48\n",
        "\n",
        "def main():\n",
        "  age:int = int(input(\"How old are you? \"))\n",
        "  if age >= Peturksbouipo:\n",
        "    print(f\"Your age is {age}, you are eligible to vote in Peturksbouipo\")\n",
        "  else:\n",
        "    print(f\"Your age is {age}, you are not eligible to vote in Peturksbouipo\")\n",
        "\n",
        "  if age >= stanlan:\n",
        "    print(f\"Your age is {age}, you are eligible to vote in stanlan\")\n",
        "  else:\n",
        "    print(f\"Your age is {age}, you are not eligible to vote in stanlan\")\n",
        "\n",
        "  if age >= mayengua:\n",
        "    print(f\"Your age is {age}, you are eligible to vote in mayengua\")\n",
        "  else:\n",
        "    print(f\"Your age is {age}, you are not eligible to vote in mayengua\")\n",
        "\n",
        "if __name__ == \"__main__\":\n",
        "  main()\n",
        "\n"
      ],
      "metadata": {
        "colab": {
          "base_uri": "https://localhost:8080/"
        },
        "id": "yLZbPk9_5h83",
        "outputId": "c8514beb-a3f9-48db-cf86-d4d409bdadd8"
      },
      "execution_count": 4,
      "outputs": [
        {
          "output_type": "stream",
          "name": "stdout",
          "text": [
            "02_international_voting_age\n",
            "How old are you? 45\n",
            "Your age is 45, you are eligible to vote in Peturksbouipo\n",
            "Your age is 45, you are eligible to vote in stanlan\n",
            "Your age is 45, you are not eligible to vote in mayengua\n"
          ]
        }
      ]
    },
    {
      "cell_type": "code",
      "source": [
        "print(\"03_leap_year.\")\n",
        "\n",
        "def leap_year():\n",
        "  year:int = int(input(\"Enter a year: \"))\n",
        "\n",
        "  if year % 4 == 0:\n",
        "    if year % 100 == 0:\n",
        "      if year % 400 == 0:\n",
        "        print(f\"{year} is a leap year\")\n",
        "      else:\n",
        "        print(f\"{year} is not a leap year\")\n",
        "    else:\n",
        "      print(f\"{year} is a leap year\")\n",
        "  else:\n",
        "    print(f\"{year} is not a leap year\")\n",
        "\n",
        "if __name__ == \"__main__\":\n",
        "  leap_year()\n"
      ],
      "metadata": {
        "colab": {
          "base_uri": "https://localhost:8080/"
        },
        "id": "qYdARymgC3Ku",
        "outputId": "a9e351dd-a354-4eb2-b2a4-83f5a73da53e"
      },
      "execution_count": 5,
      "outputs": [
        {
          "output_type": "stream",
          "name": "stdout",
          "text": [
            "03_leap_year.\n",
            "Enter a year: 2035\n",
            "2035 is not a leap year\n"
          ]
        }
      ]
    },
    {
      "cell_type": "code",
      "source": [
        "print(\"04_tall_enough_to_ride\")\n",
        "\n",
        "min_hight:int = 25\n",
        "\n",
        "def main():\n",
        "  hight:int = int(input(\"how tall are you: \"))\n",
        "  if hight >= min_hight:\n",
        "    print(\"You are tall enough to ride\")\n",
        "  else:\n",
        "    print(\"You are not tall enough to ride, maybe next year\")\n",
        "\n",
        "\n",
        "if __name__ == \"__main__\":\n",
        "  main()\n",
        "\n"
      ],
      "metadata": {
        "colab": {
          "base_uri": "https://localhost:8080/"
        },
        "id": "bY-PWKurEfme",
        "outputId": "176cab51-ec59-474d-dcb1-0ec364417501"
      },
      "execution_count": 7,
      "outputs": [
        {
          "output_type": "stream",
          "name": "stdout",
          "text": [
            "04_tall_enough_to_ride\n",
            "how tall are you: 20\n",
            "You are not tall enough to ride, maybe next year\n"
          ]
        }
      ]
    },
    {
      "cell_type": "code",
      "source": [
        "import random\n",
        "print(\"05_random_numbers\")\n",
        "def main():\n",
        "  for i in range(10):\n",
        "    num:list[int] = random.randint (1,100)\n",
        "    print(num)\n",
        "\n",
        "if __name__ == \"__main__\":\n",
        "  main()"
      ],
      "metadata": {
        "colab": {
          "base_uri": "https://localhost:8080/"
        },
        "id": "yVUjQRezJFsk",
        "outputId": "e7818c68-45c9-4efa-a13e-e545cb8f0c11"
      },
      "execution_count": 10,
      "outputs": [
        {
          "output_type": "stream",
          "name": "stdout",
          "text": [
            "05_random_numbers\n",
            "57\n",
            "48\n",
            "30\n",
            "7\n",
            "44\n",
            "6\n",
            "22\n",
            "42\n",
            "69\n",
            "69\n"
          ]
        }
      ]
    }
  ]
}