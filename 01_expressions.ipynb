{
  "nbformat": 4,
  "nbformat_minor": 0,
  "metadata": {
    "colab": {
      "provenance": [],
      "authorship_tag": "ABX9TyMcmuUwLimKL6/XeH5r8kcJ",
      "include_colab_link": true
    },
    "kernelspec": {
      "name": "python3",
      "display_name": "Python 3"
    },
    "language_info": {
      "name": "python"
    }
  },
  "cells": [
    {
      "cell_type": "markdown",
      "metadata": {
        "id": "view-in-github",
        "colab_type": "text"
      },
      "source": [
        "<a href=\"https://colab.research.google.com/github/asadali7755/Project-4-Assignments/blob/main/01_expressions.ipynb\" target=\"_parent\"><img src=\"https://colab.research.google.com/assets/colab-badge.svg\" alt=\"Open In Colab\"/></a>"
      ]
    },
    {
      "cell_type": "code",
      "execution_count": null,
      "metadata": {
        "id": "pMSt4v78O22s",
        "colab": {
          "base_uri": "https://localhost:8080/"
        },
        "outputId": "d0c7f9f9-6ef4-4bfe-f5a3-e42a61c3e757"
      },
      "outputs": [
        {
          "output_type": "stream",
          "name": "stdout",
          "text": [
            "01_dicesimulator.\n",
            "die1 is main() start as 10\n",
            " total of two dies: 12\n",
            " total of two dies: 4\n",
            " total of two dies: 8\n",
            "die1 is main() is: 10\n"
          ]
        }
      ],
      "source": [
        "import random\n",
        "print (\"01_dicesimulator.\")\n",
        "\n",
        "def roll_dice():\n",
        "  die1:int = random.randint(1,6)\n",
        "  die2:int = random.randint(1,6)\n",
        "  total:int = die1 + die2\n",
        "  print(f\" total of two dies: {total}\")\n",
        "\n",
        "def main():\n",
        "  die1:int =10\n",
        "  print(\"die1 is main() start as \" + str(die1))\n",
        "  roll_dice()\n",
        "  roll_dice()\n",
        "  roll_dice()\n",
        "  print(\"die1 is main() is: \" +str (die1))\n",
        "\n",
        "if __name__ == \"__main__\":\n",
        "  main()\n"
      ]
    },
    {
      "cell_type": "code",
      "source": [
        "print(\"02_e=mc2\")\n",
        "\n",
        "def energy ():\n",
        "  c:float = 299792458\n",
        "  m:float = float(input(\"Enter kilos of mass: \"))\n",
        "  print(\"e = m*c^2\")\n",
        "  print(\"mass = \" +str(m) + \" kg\" )\n",
        "  print(\"c = \" +str(c) +  \" m/s\")\n",
        "  print(\"e = \" +str(m * c** 2) + \" jules\")\n",
        "\n",
        "if __name__ == \"__main__\":\n",
        "  energy()"
      ],
      "metadata": {
        "id": "JWkAlWbUP14L",
        "colab": {
          "base_uri": "https://localhost:8080/"
        },
        "outputId": "2ea10dcc-ad5b-42ce-b643-d222a5a63468"
      },
      "execution_count": null,
      "outputs": [
        {
          "output_type": "stream",
          "name": "stdout",
          "text": [
            "02_e=mc2\n",
            "Enter kilos of mass: 120\n",
            "e = m*c^2\n",
            "mass = 120.0 kg\n",
            "c = 299792458 m/s\n",
            "e = 1.0785062144841812e+19 jules\n"
          ]
        }
      ]
    },
    {
      "cell_type": "code",
      "source": [
        "print(\"03_feet_to_inches\")\n",
        "\n",
        "inch:int = 12\n",
        "\n",
        "def foot():\n",
        "  feet:int = int(input(\"Enter feet and i wiill convert into inches\"))\n",
        "  print(f\"there are {inch * feet} inches in {feet} feet \")\n",
        "\n",
        "if __name__ == \"__main__\":\n",
        "  foot()"
      ],
      "metadata": {
        "colab": {
          "base_uri": "https://localhost:8080/"
        },
        "id": "R_M63nVOaa9l",
        "outputId": "ac26062c-9404-4c25-fe01-22c8c8a66ed0"
      },
      "execution_count": null,
      "outputs": [
        {
          "output_type": "stream",
          "name": "stdout",
          "text": [
            "03_feet_to_inches\n",
            "Enter feet and i wiill convert into inches45\n",
            "there are 540 inches in 45 feet \n"
          ]
        }
      ]
    },
    {
      "cell_type": "code",
      "source": [
        "import math\n",
        "print(\"04_pythagorean_theorem\")\n",
        "\n",
        "def trainagle():\n",
        "  ab:float = float(input(\"Enter the lenght of the side ab \"))\n",
        "  ac:float = float(input(\"Enter the lenght of the side ac \"))\n",
        "  bc:float = math.sqrt(ab**2 + ac**2)\n",
        "  print(f\"the lenght of the side bc is {bc}\")\n",
        "\n",
        "if __name__ == \"__main__\":\n",
        "  trainagle()"
      ],
      "metadata": {
        "colab": {
          "base_uri": "https://localhost:8080/"
        },
        "id": "TCp3raGqdBcP",
        "outputId": "68b5dc4f-4046-4655-858b-969aaef1e0bf"
      },
      "execution_count": null,
      "outputs": [
        {
          "output_type": "stream",
          "name": "stdout",
          "text": [
            "04_pythagorean_theorem\n",
            "Enter the lenght of the side ab 4.4\n",
            "Enter the lenght of the side ac 4.1\n",
            "the lenght of the side bc is 6.014149981501958\n"
          ]
        }
      ]
    },
    {
      "cell_type": "code",
      "source": [
        "print(\"05_remainder_division\")\n",
        "\n",
        "def reminder():\n",
        "    num1:int = int(input(\"enter an i2ntegerNumber to be devided:  \"))\n",
        "    num2:int = int(input(\"enter an integer number to  devide by:  \"))\n",
        "    quotient:int = num1 // num2\n",
        "    reminder:int = num1 % num2\n",
        "    print(reminder)\n",
        "    print(f'the result of  following division is {quotient} with the reminder of {reminder}')\n",
        "if __name__ == \"__main__\":\n",
        "  reminder()"
      ],
      "metadata": {
        "colab": {
          "base_uri": "https://localhost:8080/"
        },
        "id": "CB2845cRfm8Q",
        "outputId": "52f63c35-c505-4992-8fce-a8ff85b1e8c4"
      },
      "execution_count": 6,
      "outputs": [
        {
          "output_type": "stream",
          "name": "stdout",
          "text": [
            "05_remainder_division\n",
            "enter an i2ntegerNumber to be devided:  22\n",
            "enter an integer number to  devide by:  3\n",
            "1\n",
            "the result of  following division is 7 with the reminder of 1\n"
          ]
        }
      ]
    },
    {
      "cell_type": "code",
      "source": [
        "import random\n",
        "print(\"06_rolldice\")\n",
        "\n",
        "def dice():\n",
        "  die1:int = random.randint(1,6)\n",
        "  die2:int = random.randint(1,6)\n",
        "  total:int = int(die1 + die2)\n",
        "  print(\"first die: \" + str(die1))\n",
        "  print(\"second die: \" + str(die2))\n",
        "  print(f'total of two dies :  {total}')\n",
        "if __name__ == \"__main__\":\n",
        "  dice()"
      ],
      "metadata": {
        "id": "Qt6gH4JS50vP",
        "colab": {
          "base_uri": "https://localhost:8080/"
        },
        "outputId": "65cf6bf4-b5e4-4778-ee47-980e7b9cbda2"
      },
      "execution_count": 15,
      "outputs": [
        {
          "output_type": "stream",
          "name": "stdout",
          "text": [
            "06_rolldice\n",
            "first die: 4\n",
            "second die: 6\n",
            "total of two dies :  10\n"
          ]
        }
      ]
    },
    {
      "cell_type": "code",
      "source": [
        "print(\"06_seconds_in_year\")\n",
        "\n",
        "daysInYear:int = 365\n",
        "hoursInDay:int = 24\n",
        "minutesInHour:int = 60\n",
        "secondsPerMinutes:int =60\n",
        "\n",
        "def seconds():\n",
        "  print(f'there are {daysInYear * hoursInDay * minutesInHour * secondsPerMinutes} second in a year!')\n",
        "\n",
        "if __name__ == \"__main__\":\n",
        "  seconds()\n",
        "\n"
      ],
      "metadata": {
        "colab": {
          "base_uri": "https://localhost:8080/"
        },
        "id": "t3gIlU_cvGn_",
        "outputId": "f5b40f76-318e-42dd-ba41-d2000cf0edcd"
      },
      "execution_count": 22,
      "outputs": [
        {
          "output_type": "stream",
          "name": "stdout",
          "text": [
            "06_seconds_in_year\n",
            "there are 31536000 second in a year!\n"
          ]
        }
      ]
    },
    {
      "cell_type": "code",
      "source": [
        "print(\"07_tiny_mad_lib\")\n",
        "\n",
        "def madlib():\n",
        "  noun:str = str (input(\"Enter a noun:\"))\n",
        "  adjective:str = str(input(\"Enter an adjective:\"))\n",
        "  verb:str = str(input(\"Enter a verb:\"))\n",
        "  adverb:str = str (input(\"Enter an adverb:\"))\n",
        "  print(f'do ypu {verb} your {adjective} {noun} ? ')\n",
        "\n",
        "if __name__ == \"__main__\":\n",
        "  madlib()"
      ],
      "metadata": {
        "colab": {
          "base_uri": "https://localhost:8080/"
        },
        "id": "lcZ4PQG71vtS",
        "outputId": "7f60a756-1f0d-4c15-c6f8-2c8f1a51e5e4"
      },
      "execution_count": 23,
      "outputs": [
        {
          "output_type": "stream",
          "name": "stdout",
          "text": [
            "07_tiny_mad_lib\n",
            "Enter a noun:cat\n",
            "Enter an adjective:cut\n",
            "Enter a verb:sleep\n",
            "Enter an adverb:do you sleep your cute cat\n",
            "do ypu sleep your cut cat ? \n"
          ]
        }
      ]
    }
  ]
}